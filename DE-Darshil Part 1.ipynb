{
 "cells": [
  {
   "cell_type": "code",
   "execution_count": 1,
   "id": "ae5fea75-d14b-475d-8f00-fb85c703da13",
   "metadata": {},
   "outputs": [
    {
     "name": "stdout",
     "output_type": "stream",
     "text": [
      "Collecting psycopg2\n",
      "  Downloading psycopg2-2.9.9.tar.gz (384 kB)\n",
      "\u001b[2K     \u001b[90m━━━━━━━━━━━━━━━━━━━━━━━━━━━━━━━━━━━━━━━\u001b[0m \u001b[32m384.9/384.9 kB\u001b[0m \u001b[31m1.1 MB/s\u001b[0m eta \u001b[36m0:00:00\u001b[0m00:01\u001b[0m00:01\u001b[0m\n",
      "\u001b[?25h  Preparing metadata (setup.py) ... \u001b[?25ldone\n",
      "\u001b[?25hBuilding wheels for collected packages: psycopg2\n",
      "  Building wheel for psycopg2 (setup.py) ... \u001b[?25ldone\n",
      "\u001b[?25h  Created wheel for psycopg2: filename=psycopg2-2.9.9-cp312-cp312-macosx_11_0_arm64.whl size=134237 sha256=7a26a35cb37dfb0dd038f149bdb9a0b9d53a76b32eecda2925aae4dbc6837ba7\n",
      "  Stored in directory: /Users/rindangcahyaning/Library/Caches/pip/wheels/ff/ac/80/7ccec163e3d05ae2112311b895132409b9abfd7e0c1c6b5183\n",
      "Successfully built psycopg2\n",
      "Installing collected packages: psycopg2\n",
      "Successfully installed psycopg2-2.9.9\n"
     ]
    }
   ],
   "source": [
    "#creating table with postgresql\n",
    "!pip install psycopg2"
   ]
  },
  {
   "cell_type": "code",
   "execution_count": 3,
   "id": "302ac8dd-a4ad-4b5e-b8dc-a92c102ac163",
   "metadata": {},
   "outputs": [],
   "source": [
    "#import library\n",
    "import psycopg2"
   ]
  },
  {
   "cell_type": "code",
   "execution_count": 7,
   "id": "a0896049-45b2-42d6-8d11-19bbff7e2979",
   "metadata": {},
   "outputs": [],
   "source": [
    "#create a connection to the database\n",
    "\n",
    "try:\n",
    "    conn = psycopg2.connect(\"host=localhost port=5432 dbname=postgres user=postgres\")\n",
    "\n",
    "except psycopg2.Error as e:\n",
    "    print(\"Error: could not make connection to postgresql database\")\n",
    "    print(e)\n",
    "    "
   ]
  },
  {
   "cell_type": "code",
   "execution_count": 9,
   "id": "874d93e9-19e6-49f2-bab3-03440d16af7c",
   "metadata": {},
   "outputs": [],
   "source": [
    "#use the connection to get a cursor that can be used to execute queries\n",
    "\n",
    "try :\n",
    "    cur = conn.cursor()\n",
    "\n",
    "except:\n",
    "    print(\"cannot get cusrsor for the database\")\n",
    "    print(e)\n",
    "    "
   ]
  },
  {
   "cell_type": "code",
   "execution_count": 13,
   "id": "42ff9bfd-bd2c-4ea2-a269-20efa85a29fc",
   "metadata": {},
   "outputs": [],
   "source": [
    "# set automatic commit to be true so that each action is commited without having to call conn.commit() after each command\n",
    "\n",
    "conn.set_session(autocommit = True)"
   ]
  },
  {
   "cell_type": "code",
   "execution_count": 17,
   "id": "fe823be7-c385-474c-b83a-d6f310d8568a",
   "metadata": {},
   "outputs": [
    {
     "name": "stdout",
     "output_type": "stream",
     "text": [
      "database \"myfirstdb\" already exists\n",
      "\n"
     ]
    }
   ],
   "source": [
    "# create a database to do teh work \n",
    "\n",
    "try:\n",
    "    cur.execute(\"create database myfirstdb\")\n",
    "\n",
    "except psycopg2.Error as e:\n",
    "    print(e)\n",
    "    "
   ]
  },
  {
   "cell_type": "code",
   "execution_count": 19,
   "id": "84eeb86e-8216-44d3-a7c2-2cfa409683a1",
   "metadata": {},
   "outputs": [],
   "source": [
    "#add the database to the connect statement. Close connection from the default database and reconnect \n",
    "#to our new database and creat auto commit\n",
    "\n",
    "try:\n",
    "    conn.close()\n",
    "except psycopg2.Error as e :\n",
    "    print(e)\n",
    "\n",
    "try:\n",
    "    conn = psycopg2.connect(\"host=localhost port=5432 dbname=myfirstdb user=postgres\")\n",
    "\n",
    "except psycopg2.Error as e:\n",
    "    print(\"Error: could not make connection to postgresql database\")\n",
    "    print(e)\n",
    "\n",
    "try :\n",
    "    cur = conn.cursor()\n",
    "\n",
    "except:\n",
    "    print(\"cannot get cusrsor for the database\")\n",
    "    print(e)\n",
    "\n",
    "conn.set_session(autocommit = True)"
   ]
  },
  {
   "cell_type": "code",
   "execution_count": 23,
   "id": "40c1bbbd-812e-4b62-82bf-f8bf4b97b078",
   "metadata": {},
   "outputs": [],
   "source": [
    "#create student table along with the columns\n",
    "\n",
    "try:\n",
    "    cur.execute(\"CREATE TABLE IF NOT EXISTS students (student_id int, name varchar \\\n",
    "    , age int, gender varchar, subject varchar, marks int)\")\n",
    "\n",
    "except psycopg2.Error as e:\n",
    "    print(\"Error : issue when creating table\")\n",
    "    print(e)\n",
    "    "
   ]
  },
  {
   "cell_type": "code",
   "execution_count": 29,
   "id": "3a0631ed-9a37-49e7-89f8-66ce2cbe113b",
   "metadata": {},
   "outputs": [],
   "source": [
    "#insert two rows of data to the table \n",
    "\n",
    "try:\n",
    "    cur.execute(\"INSERT INTO students (student_id, name \\\n",
    "    ,age, gender, subject, marks)\\\n",
    "    VALUES (%s, %s, %s, %s, %s, %s)\",\\\n",
    "    (1, \"Billy\", 23, \"Male\", \"Python\", 85))\n",
    "\n",
    "except psycopg2.Error as e:\n",
    "    print(\"Error inserting row\")\n",
    "    print(e)\n",
    "\n",
    "try:\n",
    "    cur.execute(\"INSERT INTO students (student_id, name \\\n",
    "    ,age, gender, subject, marks)\\\n",
    "    VALUES (%s, %s, %s, %s, %s, %s)\",\\\n",
    "    (1, \"Tata\", 21, \"Female\", \"Python\", 87))\n",
    "\n",
    "except psycopg2.Error as e:\n",
    "    print(\"Error inserting row\")\n",
    "    print(e)\n",
    "    "
   ]
  },
  {
   "cell_type": "code",
   "execution_count": 35,
   "id": "0628f62f-9acc-4a8e-a43f-1bad5a07abbd",
   "metadata": {},
   "outputs": [
    {
     "name": "stdout",
     "output_type": "stream",
     "text": [
      "(1, 'Billy', 23, 'Male', 'Python', 85)\n",
      "(1, 'Tata', 21, 'Female', 'Python', 87)\n"
     ]
    }
   ],
   "source": [
    "# validate that the data was inserted to the student table\n",
    "\n",
    "try:\n",
    "    cur.execute(\"SELECT * from students;\")\n",
    "except psycopg2.Error as e:\n",
    "    print(\"Error : select *\")\n",
    "    print(e)\n",
    "\n",
    "row = cur.fetchone()\n",
    "while row:\n",
    "    print(row)\n",
    "    row = cur.fetchone()\n",
    "    "
   ]
  },
  {
   "cell_type": "code",
   "execution_count": null,
   "id": "e63b0bd7-696d-4c67-8cda-423f73a1af6d",
   "metadata": {},
   "outputs": [],
   "source": [
    "# close cursor and connection\n",
    "\n"
   ]
  }
 ],
 "metadata": {
  "kernelspec": {
   "display_name": "Python 3 (ipykernel)",
   "language": "python",
   "name": "python3"
  },
  "language_info": {
   "codemirror_mode": {
    "name": "ipython",
    "version": 3
   },
   "file_extension": ".py",
   "mimetype": "text/x-python",
   "name": "python",
   "nbconvert_exporter": "python",
   "pygments_lexer": "ipython3",
   "version": "3.12.4"
  }
 },
 "nbformat": 4,
 "nbformat_minor": 5
}
